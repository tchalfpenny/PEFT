{
  "nbformat": 4,
  "nbformat_minor": 0,
  "metadata": {
    "colab": {
      "provenance": []
    },
    "kernelspec": {
      "name": "python3",
      "display_name": "Python 3"
    },
    "language_info": {
      "name": "python"
    }
  },
  "cells": [
    {
      "cell_type": "markdown",
      "source": [
        "# Fine-tuning Llama 2 (7B) with QLoRA"
      ],
      "metadata": {
        "id": "0Ftyc2t-aVTi"
      }
    },
    {
      "cell_type": "code",
      "source": [],
      "metadata": {
        "id": "a_0no8mSHWD1"
      },
      "execution_count": null,
      "outputs": []
    }
  ]
}